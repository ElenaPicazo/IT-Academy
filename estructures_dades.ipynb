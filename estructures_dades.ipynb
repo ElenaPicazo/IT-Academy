{
 "cells": [
  {
   "cell_type": "markdown",
   "metadata": {},
   "source": [
    "### Exercici 1\n",
    "\n",
    "Crea una llista que agrupi els mesos de l’any en trimestres (1T: Gener, Febrer i Març, 2T: Abril, Maig, Juny...), és a dir, una llista amb 4 llistes dins."
   ]
  },
  {
   "cell_type": "code",
   "execution_count": 14,
   "metadata": {},
   "outputs": [],
   "source": [
    "ex1=[['Gener', 'Febrer', 'Març'], ['Abril', 'Maig', 'Juny'], \n",
    "     ['Juliol', 'Agost', 'Setembre'],['Octubre', 'Novembre', 'Desembre']]"
   ]
  },
  {
   "cell_type": "code",
   "execution_count": 47,
   "metadata": {},
   "outputs": [
    {
     "name": "stdout",
     "output_type": "stream",
     "text": [
      "Cuántos trimestres hay en un año? 4\n",
      "Escribe el mes 1 del trimestre 1 Ene\n",
      "Escribe el mes 2 del trimestre 1 Feb\n",
      "Escribe el mes 3 del trimestre 1 Mar\n",
      "Escribe el mes 1 del trimestre 2 Abr\n",
      "Escribe el mes 2 del trimestre 2 May\n",
      "Escribe el mes 3 del trimestre 2 Jun\n",
      "Escribe el mes 1 del trimestre 3 Jul\n",
      "Escribe el mes 2 del trimestre 3 Agp\n",
      "Escribe el mes 3 del trimestre 3 Set\n",
      "Escribe el mes 1 del trimestre 4 Oct\n",
      "Escribe el mes 2 del trimestre 4 Nov\n",
      "Escribe el mes 3 del trimestre 4 Dic\n"
     ]
    },
    {
     "data": {
      "text/plain": [
       "[['Ene', 'Feb', 'Mar'],\n",
       " ['Abr', 'May', 'Jun'],\n",
       " ['Jul', 'Agp', 'Set'],\n",
       " ['Oct', 'Nov', 'Dic']]"
      ]
     },
     "execution_count": 47,
     "metadata": {},
     "output_type": "execute_result"
    }
   ],
   "source": [
    "# Automático\n",
    "\n",
    "def trimestre():\n",
    "    final_lst=[]\n",
    "    lst1=[]\n",
    "    lst2=[]\n",
    "    lst3=[] \n",
    "    lst4=[]\n",
    "    count=int(input(\"Cuántos trimestres hay en un año? \"))\n",
    "    for trim in range(count):\n",
    "        if trim == 0:\n",
    "            for mes in range(3):       \n",
    "                nombre_mes=input(\"Escribe el mes {} del trimestre {} \".format(mes+1, trim+1))\n",
    "                lst1.append(nombre_mes)\n",
    "        if trim == 1:\n",
    "            for mes in range(3):       \n",
    "                nombre_mes=input(\"Escribe el mes {} del trimestre {} \".format(mes+1, trim+1))\n",
    "                lst2.append(nombre_mes)            \n",
    "        if trim == 2:\n",
    "            for mes in range(3):       \n",
    "                nombre_mes=input(\"Escribe el mes {} del trimestre {} \".format(mes+1, trim+1))\n",
    "                lst3.append(nombre_mes) \n",
    "        if trim == 3:\n",
    "            for mes in range(3):       \n",
    "                nombre_mes=input(\"Escribe el mes {} del trimestre {} \".format(mes+1, trim+1))\n",
    "                lst4.append(nombre_mes)  \n",
    "            \n",
    "    final_lst.append(lst1)\n",
    "    final_lst.append(lst2)\n",
    "    final_lst.append(lst3)\n",
    "    final_lst.append(lst4)\n",
    "    \n",
    "    return final_lst\n",
    "\n",
    "ex1=trimestre()"
   ]
  },
  {
   "cell_type": "markdown",
   "metadata": {},
   "source": [
    "### Exercici 2\n",
    "\n",
    "Crea un codi que et permeti accedir a:\n",
    "\n",
    "El segon mes del primer trimestre\n",
    "Els mesos del primer trimestre\n",
    "Setembre i octubre"
   ]
  },
  {
   "cell_type": "code",
   "execution_count": 29,
   "metadata": {},
   "outputs": [],
   "source": [
    "## MANUAL\n",
    "\n",
    "# Accedir a El segon mes del primer trimestre\n",
    "\n",
    "M2T1=ex1[0][1]\n",
    "\n",
    "# Accedir a mesos del primer trimestre\n",
    "\n",
    "T1=ex1[0]\n",
    "\n",
    "# Accedir a Setembre i octubre\n",
    "\n",
    "set_oct=[]\n",
    "setembre=ex1[-2][-1]\n",
    "set_oct.append(setembre)\n",
    "octubre=ex1[-1][:-2]\n",
    "set_oct.append(octubre)"
   ]
  },
  {
   "cell_type": "code",
   "execution_count": 35,
   "metadata": {},
   "outputs": [
    {
     "name": "stdout",
     "output_type": "stream",
     "text": [
      "A cuántos meses queremos acceder? 2\n",
      "A qué trimestre pertence el mes 1 que queremos acceder? 3\n",
      "Es el mes 1 o 2 o 3 del trimestre 3? 3\n",
      "A qué trimestre pertence el mes 2 que queremos acceder? 4\n",
      "Es el mes 1 o 2 o 3 del trimestre 4? 1\n"
     ]
    },
    {
     "data": {
      "text/plain": [
       "['Setembre', 'Octubre']"
      ]
     },
     "execution_count": 35,
     "metadata": {},
     "output_type": "execute_result"
    }
   ],
   "source": [
    "## Automático\n",
    "\n",
    "def get_meses():\n",
    "    final_lst=[]\n",
    "    count=int(input(\"A cuántos meses queremos acceder? \"))\n",
    "    for i in range(count):\n",
    "        trim=int(input(\"A qué trimestre pertence el mes {} que queremos acceder? \".format(i+1)))\n",
    "        mes=int(input(\"Es el mes 1 o 2 o 3 del trimestre {}? \".format(trim)))\n",
    "        final_lst.append(ex1[trim-1][mes-1])\n",
    "    return final_lst\n",
    "\n",
    "lst_res1=get_meses()\n",
    "lst_res2=get_meses()\n",
    "lst_res3=get_meses()"
   ]
  },
  {
   "cell_type": "markdown",
   "metadata": {},
   "source": [
    "### Exercici 3\n",
    "\n",
    "Crea una llista amb nombres desordenats i respon a les següents preguntes:\n",
    "\n",
    "- Quants números hi ha? els que vulgui\n",
    "- Quantes vegades apareix el número 3. Dos cops\n",
    "- Quantes vegades apareixen els nombres 3 i 4? Cap\n",
    "- Quin és el número més gran? El 9\n",
    "- Quins són els 3 números més petits? 3,5,6\n",
    "- Quin és el rang d’aquesta llista? 10"
   ]
  },
  {
   "cell_type": "code",
   "execution_count": 3,
   "metadata": {},
   "outputs": [
    {
     "name": "stdout",
     "output_type": "stream",
     "text": [
      "[5, 5, 8, 7, 5, 9, 3, 6, 7, 3]\n"
     ]
    }
   ],
   "source": [
    "import random\n",
    "randomlist = []\n",
    "for i in range(0,10):\n",
    "    n = random.randint(1,9)\n",
    "    randomlist.append(n)\n",
    "print(randomlist)"
   ]
  },
  {
   "cell_type": "markdown",
   "metadata": {},
   "source": [
    "### Exercici 4\n",
    "\n",
    "Crea un diccionari de la següent forma i respon a les preguntes:\n",
    "\n",
    "compra = { \"Pomes\" : {\"Qty\": 5, \"€\": 0.42}, \"Peres\" : {\"Qty\": 3, \"€\": 0.66} }\n",
    "\n",
    "Afegeix alguna fruita més\n"
   ]
  },
  {
   "cell_type": "code",
   "execution_count": 4,
   "metadata": {},
   "outputs": [],
   "source": [
    "compra = { \"Pomes\" : {\"Qty\": 5, \"€\": 0.42}, \"Peres\" : {\"Qty\": 3, \"€\": 0.66} }\n",
    "\n",
    "# Afegeix alguna fruita més\n",
    "compra[\"Cireres\"]={\"Qty\": 4, \"€\": 0.5}\n",
    "\n",
    "# Quant han costat les peres en total?\n",
    "q_peres=compra['Peres']['Qty']\n",
    "p_peres=compra['Peres']['€']\n",
    "preu_peres=q_peres*p_peres\n",
    "\n",
    "# Quantes fruites hem comprat en total?\n",
    "num_fruites=len(list(compra.keys()))\n",
    "\n",
    "# Quina és la fruita més cara?\n",
    "max_preu=0\n",
    "\n",
    "for key, val in compra.items():\n",
    "    q=compra[key]['Qty']\n",
    "    p=compra[key]['€']\n",
    "    total=p*q\n",
    "    if total > max_preu:\n",
    "        max_preu=total\n",
    "        print('La fruita més cara són les {}'.format(key))"
   ]
  }
 ],
 "metadata": {
  "kernelspec": {
   "display_name": "Python 3",
   "language": "python",
   "name": "python3"
  },
  "language_info": {
   "codemirror_mode": {
    "name": "ipython",
    "version": 3
   },
   "file_extension": ".py",
   "mimetype": "text/x-python",
   "name": "python",
   "nbconvert_exporter": "python",
   "pygments_lexer": "ipython3",
   "version": "3.8.3"
  }
 },
 "nbformat": 4,
 "nbformat_minor": 4
}
